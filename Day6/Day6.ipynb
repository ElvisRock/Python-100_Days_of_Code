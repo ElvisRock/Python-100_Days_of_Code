{
 "cells": [
  {
   "cell_type": "markdown",
   "id": "52e45af4",
   "metadata": {},
   "source": [
    "> # Day 6 - Beginner - Python Functions & Karel"
   ]
  },
  {
   "cell_type": "markdown",
   "id": "6df289b9",
   "metadata": {},
   "source": [
    "##### Game"
   ]
  },
  {
   "cell_type": "markdown",
   "id": "d8b30b55",
   "metadata": {},
   "source": [
    "Link: https://reeborg.ca/reeborg.html?lang=en&mode=python&menu=worlds%2Fmenus%2Freeborg_intro_en.json&name=Maze&url=worlds%2Ftutorial_en%2Fmaze1.json"
   ]
  },
  {
   "cell_type": "code",
   "execution_count": null,
   "id": "1d00f7f0",
   "metadata": {},
   "outputs": [],
   "source": [
    "def turn_right():\n",
    "    turn_left()\n",
    "    turn_left()\n",
    "    turn_left()\n",
    "    \n",
    "while front_is_clear():\n",
    "    move()\n",
    "turn_left()\n",
    "\n",
    "while not at_goal():\n",
    "    if right_is_clear():\n",
    "        turn_right()\n",
    "        move()\n",
    "    elif front_is_clear():\n",
    "        move()\n",
    "    else:\n",
    "        turn_left()"
   ]
  },
  {
   "cell_type": "markdown",
   "id": "788bfd8a",
   "metadata": {},
   "source": [
    "![title](C:\\Users\\elvis\\Downloads\\imagenofgame.PNG)"
   ]
  },
  {
   "cell_type": "code",
   "execution_count": null,
   "id": "9c45e07a",
   "metadata": {},
   "outputs": [],
   "source": []
  }
 ],
 "metadata": {
  "kernelspec": {
   "display_name": "Python 3 (ipykernel)",
   "language": "python",
   "name": "python3"
  },
  "language_info": {
   "codemirror_mode": {
    "name": "ipython",
    "version": 3
   },
   "file_extension": ".py",
   "mimetype": "text/x-python",
   "name": "python",
   "nbconvert_exporter": "python",
   "pygments_lexer": "ipython3",
   "version": "3.9.7"
  }
 },
 "nbformat": 4,
 "nbformat_minor": 5
}
