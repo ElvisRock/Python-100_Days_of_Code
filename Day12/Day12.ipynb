{
 "cells": [
  {
   "cell_type": "markdown",
   "id": "0813ede2",
   "metadata": {},
   "source": [
    "> # Day12 - Beginner- Scope & Number Guessing Game"
   ]
  },
  {
   "cell_type": "code",
   "execution_count": 5,
   "id": "04e3a262",
   "metadata": {},
   "outputs": [],
   "source": [
    "########### Scope ###########"
   ]
  },
  {
   "cell_type": "code",
   "execution_count": 1,
   "id": "6a1cb21f",
   "metadata": {},
   "outputs": [],
   "source": [
    "enemies = 1 "
   ]
  },
  {
   "cell_type": "code",
   "execution_count": 2,
   "id": "f4d0fe3f",
   "metadata": {},
   "outputs": [],
   "source": [
    "def increase_enemies():\n",
    "    enemies = 2\n",
    "    print(f\"enemies outside function:{enemies}\")"
   ]
  },
  {
   "cell_type": "code",
   "execution_count": 4,
   "id": "e80818f6",
   "metadata": {},
   "outputs": [
    {
     "name": "stdout",
     "output_type": "stream",
     "text": [
      "enemies outside functions:2\n",
      "enemies outside function: 1\n"
     ]
    }
   ],
   "source": [
    "increase_enemies()\n",
    "print(f\"enemies outside function: {enemies}\")"
   ]
  },
  {
   "cell_type": "code",
   "execution_count": 6,
   "id": "8c4484e0",
   "metadata": {},
   "outputs": [
    {
     "name": "stdout",
     "output_type": "stream",
     "text": [
      "2\n"
     ]
    }
   ],
   "source": [
    "# Local Scope\n",
    "\n",
    "def drink_potion():\n",
    "    potion_strenght = 2 \n",
    "    print(potion_strenght)\n",
    "    \n",
    "drink_potion()"
   ]
  },
  {
   "cell_type": "code",
   "execution_count": 7,
   "id": "92ec601b",
   "metadata": {},
   "outputs": [
    {
     "name": "stdout",
     "output_type": "stream",
     "text": [
      "10\n"
     ]
    }
   ],
   "source": [
    "# Global Scope \n",
    "player_health = 10\n",
    "\n",
    "def drink_potion():\n",
    "    potion_strenght = 2 \n",
    "    print(player_health)\n",
    "    \n",
    "drink_potion()"
   ]
  },
  {
   "cell_type": "code",
   "execution_count": 8,
   "id": "63294bba",
   "metadata": {},
   "outputs": [
    {
     "name": "stdout",
     "output_type": "stream",
     "text": [
      "10\n",
      "10\n"
     ]
    }
   ],
   "source": [
    "player_health = 10\n",
    "\n",
    "def game():\n",
    "    def drink_potion():\n",
    "        potion_strenght = 2 \n",
    "        print(player_health)\n",
    "\n",
    "drink_potion()\n",
    "print(player_health)"
   ]
  },
  {
   "cell_type": "code",
   "execution_count": 12,
   "id": "c6902211",
   "metadata": {},
   "outputs": [
    {
     "name": "stdout",
     "output_type": "stream",
     "text": [
      "Skeleton\n"
     ]
    }
   ],
   "source": [
    "# There is no Block Scope\n",
    "\n",
    "game_level = 3 \n",
    "def create_enemy():\n",
    "    enemies = [\"Skeleton\",\"Zombie\",\"Alien\"]\n",
    "    if game_level < 5:\n",
    "        new_enemy = enemies[0]\n",
    "    \n",
    "print(new_enemy)"
   ]
  },
  {
   "cell_type": "code",
   "execution_count": 15,
   "id": "e55b0f20",
   "metadata": {},
   "outputs": [
    {
     "name": "stdout",
     "output_type": "stream",
     "text": [
      "enemies inside function: 1\n",
      "enemies outside function:1\n"
     ]
    }
   ],
   "source": [
    "# Modifying Global Scope\n",
    "\n",
    "enemies = 1\n",
    "\n",
    "def increase_enemies():\n",
    "    print(f\"enemies inside function: {enemies}\")\n",
    "    return enemies + 1\n",
    "\n",
    "increase = increase_enemies()\n",
    "print(f\"enemies outside function:{enemies}\")"
   ]
  },
  {
   "cell_type": "code",
   "execution_count": null,
   "id": "e33b4b11",
   "metadata": {},
   "outputs": [],
   "source": []
  }
 ],
 "metadata": {
  "kernelspec": {
   "display_name": "Python 3 (ipykernel)",
   "language": "python",
   "name": "python3"
  },
  "language_info": {
   "codemirror_mode": {
    "name": "ipython",
    "version": 3
   },
   "file_extension": ".py",
   "mimetype": "text/x-python",
   "name": "python",
   "nbconvert_exporter": "python",
   "pygments_lexer": "ipython3",
   "version": "3.9.7"
  }
 },
 "nbformat": 4,
 "nbformat_minor": 5
}
