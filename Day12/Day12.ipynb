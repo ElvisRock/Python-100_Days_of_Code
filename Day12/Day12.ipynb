{
 "cells": [
  {
   "cell_type": "markdown",
   "id": "0813ede2",
   "metadata": {},
   "source": [
    "> # Day12 - Beginner- Scope & Number Guessing Game"
   ]
  },
  {
   "cell_type": "code",
   "execution_count": 5,
   "id": "04e3a262",
   "metadata": {},
   "outputs": [],
   "source": [
    "########### Scope ###########"
   ]
  },
  {
   "cell_type": "code",
   "execution_count": 1,
   "id": "6a1cb21f",
   "metadata": {},
   "outputs": [],
   "source": [
    "enemies = 1 "
   ]
  },
  {
   "cell_type": "code",
   "execution_count": 2,
   "id": "f4d0fe3f",
   "metadata": {},
   "outputs": [],
   "source": [
    "def increase_enemies():\n",
    "    enemies = 2\n",
    "    print(f\"enemies outside function:{enemies}\")"
   ]
  },
  {
   "cell_type": "code",
   "execution_count": 4,
   "id": "e80818f6",
   "metadata": {},
   "outputs": [
    {
     "name": "stdout",
     "output_type": "stream",
     "text": [
      "enemies outside functions:2\n",
      "enemies outside function: 1\n"
     ]
    }
   ],
   "source": [
    "increase_enemies()\n",
    "print(f\"enemies outside function: {enemies}\")"
   ]
  },
  {
   "cell_type": "code",
   "execution_count": 6,
   "id": "8c4484e0",
   "metadata": {},
   "outputs": [
    {
     "name": "stdout",
     "output_type": "stream",
     "text": [
      "2\n"
     ]
    }
   ],
   "source": [
    "# Local Scope\n",
    "\n",
    "def drink_potion():\n",
    "    potion_strenght = 2 \n",
    "    print(potion_strenght)\n",
    "    \n",
    "drink_potion()"
   ]
  },
  {
   "cell_type": "code",
   "execution_count": 7,
   "id": "92ec601b",
   "metadata": {},
   "outputs": [
    {
     "name": "stdout",
     "output_type": "stream",
     "text": [
      "10\n"
     ]
    }
   ],
   "source": [
    "# Global Scope \n",
    "player_health = 10\n",
    "\n",
    "def drink_potion():\n",
    "    potion_strenght = 2 \n",
    "    print(player_health)\n",
    "    \n",
    "drink_potion()"
   ]
  },
  {
   "cell_type": "code",
   "execution_count": 8,
   "id": "63294bba",
   "metadata": {},
   "outputs": [
    {
     "name": "stdout",
     "output_type": "stream",
     "text": [
      "10\n",
      "10\n"
     ]
    }
   ],
   "source": [
    "player_health = 10\n",
    "\n",
    "def game():\n",
    "    def drink_potion():\n",
    "        potion_strenght = 2 \n",
    "        print(player_health)\n",
    "\n",
    "drink_potion()\n",
    "print(player_health)"
   ]
  },
  {
   "cell_type": "code",
   "execution_count": 12,
   "id": "c6902211",
   "metadata": {},
   "outputs": [
    {
     "name": "stdout",
     "output_type": "stream",
     "text": [
      "Skeleton\n"
     ]
    }
   ],
   "source": [
    "# There is no Block Scope\n",
    "\n",
    "game_level = 3 \n",
    "def create_enemy():\n",
    "    enemies = [\"Skeleton\",\"Zombie\",\"Alien\"]\n",
    "    if game_level < 5:\n",
    "        new_enemy = enemies[0]\n",
    "    \n",
    "print(new_enemy)"
   ]
  },
  {
   "cell_type": "code",
   "execution_count": 15,
   "id": "e55b0f20",
   "metadata": {},
   "outputs": [
    {
     "name": "stdout",
     "output_type": "stream",
     "text": [
      "enemies inside function: 1\n",
      "enemies outside function:1\n"
     ]
    }
   ],
   "source": [
    "# Modifying Global Scope\n",
    "\n",
    "enemies = 1\n",
    "\n",
    "def increase_enemies():\n",
    "    print(f\"enemies inside function: {enemies}\")\n",
    "    return enemies + 1\n",
    "\n",
    "increase = increase_enemies()\n",
    "print(f\"enemies outside function:{enemies}\")"
   ]
  },
  {
   "cell_type": "code",
   "execution_count": null,
   "id": "e33b4b11",
   "metadata": {},
   "outputs": [],
   "source": []
  },
  {
   "cell_type": "code",
   "execution_count": 1,
   "id": "90205fee",
   "metadata": {},
   "outputs": [],
   "source": [
    "logo = \"\"\"\n",
    "  / _ \\_   _  ___  ___ ___  /__   \\ |__   ___    /\\ \\ \\_   _ _ __ ___ | |__   ___ _ __ \n",
    " / /_\\/ | | |/ _ \\/ __/ __|   / /\\/ '_ \\ / _ \\  /  \\/ / | | | '_ ` _ \\| '_ \\ / _ \\ '__|\n",
    "/ /_\\\\| |_| |  __/\\__ \\__ \\  / /  | | | |  __/ / /\\  /| |_| | | | | | | |_) |  __/ |   \n",
    "\\____/ \\__,_|\\___||___/___/  \\/   |_| |_|\\___| \\_\\ \\/  \\__,_|_| |_| |_|_.__/ \\___|_|  \n",
    "\"\"\""
   ]
  },
  {
   "cell_type": "code",
   "execution_count": null,
   "id": "e4b5789b",
   "metadata": {},
   "outputs": [
    {
     "name": "stdout",
     "output_type": "stream",
     "text": [
      "logo\n",
      "\n",
      "  / _ \\_   _  ___  ___ ___  /__   \\ |__   ___    /\\ \\ \\_   _ _ __ ___ | |__   ___ _ __ \n",
      " / /_\\/ | | |/ _ \\/ __/ __|   / /\\/ '_ \\ / _ \\  /  \\/ / | | | '_ ` _ \\| '_ \\ / _ \\ '__|\n",
      "/ /_\\| |_| |  __/\\__ \\__ \\  / /  | | | |  __/ / /\\  /| |_| | | | | | | |_) |  __/ |   \n",
      "\\____/ \\__,_|\\___||___/___/  \\/   |_| |_|\\___| \\_\\ \\/  \\__,_|_| |_| |_|_.__/ \\___|_|  \n",
      "\n",
      "Welcome to the Number Guessing Game!\n",
      "I'm thinking of a number between 1 and 100.\n",
      "Pssst, the correct answer is 43\n"
     ]
    }
   ],
   "source": [
    "from random import randint\n",
    "print (\"logo\")\n",
    "\n",
    "EASY_LEVEL_TURNS = 10\n",
    "HARD_LEVEL_TURNS = 5\n",
    "\n",
    "#Function to check user's guess against actual answer.\n",
    "def check_answer(guess, answer, turns):\n",
    "  \"\"\"checks answer against guess. Returns the number of turns remaining.\"\"\"\n",
    "  if guess > answer:\n",
    "    print(\"Too high.\")\n",
    "    return turns - 1\n",
    "  elif guess < answer:\n",
    "    print(\"Too low.\")\n",
    "    return turns - 1\n",
    "  else:\n",
    "    print(f\"You got it! The answer was {answer}.\")\n",
    "\n",
    "#Make function to set difficulty.\n",
    "def set_difficulty():\n",
    "  level = input(\"Choose a difficulty. Type 'easy' or 'hard': \")\n",
    "  if level == \"easy\":\n",
    "    return EASY_LEVEL_TURNS\n",
    "  else:\n",
    "    return HARD_LEVEL_TURNS\n",
    "\n",
    "def game():\n",
    "  print(logo)\n",
    "  #Choosing a random number between 1 and 100.\n",
    "  print(\"Welcome to the Number Guessing Game!\")\n",
    "  print(\"I'm thinking of a number between 1 and 100.\")\n",
    "  answer = randint(1, 100)\n",
    "  print(f\"Pssst, the correct answer is {answer}\") \n",
    "\n",
    "  turns = set_difficulty()\n",
    "  #Repeat the guessing functionality if they get it wrong.\n",
    "  guess = 0\n",
    "  while guess != answer:\n",
    "    print(f\"You have {turns} attempts remaining to guess the number.\")\n",
    "\n",
    "    #Let the user guess a number.\n",
    "    guess = int(input(\"Make a guess: \"))\n",
    "\n",
    "    #Track the number of turns and reduce by 1 if they get it wrong.\n",
    "    turns = check_answer(guess, answer, turns)\n",
    "    if turns == 0:\n",
    "      print(\"You've run out of guesses, you lose.\")\n",
    "      return\n",
    "    elif guess != answer:\n",
    "      print(\"Guess again.\")\n",
    "\n",
    "\n",
    "game()\n",
    "\n"
   ]
  },
  {
   "cell_type": "code",
   "execution_count": null,
   "id": "7cbdef47",
   "metadata": {},
   "outputs": [],
   "source": []
  }
 ],
 "metadata": {
  "kernelspec": {
   "display_name": "Python 3 (ipykernel)",
   "language": "python",
   "name": "python3"
  },
  "language_info": {
   "codemirror_mode": {
    "name": "ipython",
    "version": 3
   },
   "file_extension": ".py",
   "mimetype": "text/x-python",
   "name": "python",
   "nbconvert_exporter": "python",
   "pygments_lexer": "ipython3",
   "version": "3.9.7"
  }
 },
 "nbformat": 4,
 "nbformat_minor": 5
}
