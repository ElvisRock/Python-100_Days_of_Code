{
 "cells": [
  {
   "cell_type": "markdown",
   "id": "1d54014a",
   "metadata": {},
   "source": [
    "># <font color = \"blue\">DAY 13 - Beginner - Debugging How to Find and Fix Erros in Your Code</font>"
   ]
  },
  {
   "cell_type": "code",
   "execution_count": null,
   "id": "19f65cca",
   "metadata": {},
   "outputs": [],
   "source": []
  }
 ],
 "metadata": {
  "kernelspec": {
   "display_name": "Python 3 (ipykernel)",
   "language": "python",
   "name": "python3"
  },
  "language_info": {
   "codemirror_mode": {
    "name": "ipython",
    "version": 3
   },
   "file_extension": ".py",
   "mimetype": "text/x-python",
   "name": "python",
   "nbconvert_exporter": "python",
   "pygments_lexer": "ipython3",
   "version": "3.9.7"
  }
 },
 "nbformat": 4,
 "nbformat_minor": 5
}
