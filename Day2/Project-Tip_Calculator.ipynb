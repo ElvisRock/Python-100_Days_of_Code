{
 "cells": [
  {
   "cell_type": "markdown",
   "id": "1b94210f",
   "metadata": {},
   "source": [
    "> # Day 2"
   ]
  },
  {
   "cell_type": "markdown",
   "id": "3bce1896",
   "metadata": {},
   "source": [
    "##### Project-Tip_Calculator"
   ]
  },
  {
   "cell_type": "code",
   "execution_count": null,
   "id": "1fd508f9",
   "metadata": {},
   "outputs": [],
   "source": [
    "# https://docs.python.org/3/tutorial/floatingpoint.html"
   ]
  },
  {
   "cell_type": "code",
   "execution_count": null,
   "id": "89f4303c",
   "metadata": {},
   "outputs": [],
   "source": [
    "# if the bill was $ 150.00, split between 5 people, with 12% tip.\n",
    "#Each person should pay (150.00 / 5 ) * 1.2 = 33.6\n",
    "# Round the result to 2 decimal places = 33.60\n",
    "\n",
    "print(\"Welcome to the tip calculator !\")\n",
    "bill = float(input(\"Whats was the total bill ? $\"))\n",
    "tip = int(input (\"How much tip would you like to give ? 10, 12 or 15 ?\"))\n",
    "people = int(input(\"How many people to split the bill\"))\n",
    "tips_as_percent = tip / 100\n",
    "total_tip_amount = bill * tip_as_percent\n",
    "total_bill = bill + total_tip_amount\n",
    "bill_per_person = total_bill / people\n",
    "final_amount = round(bill_per_person, 2)\n",
    "final_amount = \"{:.2f}\".format(bill_per_person)\n",
    "print(f\"Each person should pay: ${final_amount}\")"
   ]
  }
 ],
 "metadata": {
  "kernelspec": {
   "display_name": "Python 3 (ipykernel)",
   "language": "python",
   "name": "python3"
  },
  "language_info": {
   "codemirror_mode": {
    "name": "ipython",
    "version": 3
   },
   "file_extension": ".py",
   "mimetype": "text/x-python",
   "name": "python",
   "nbconvert_exporter": "python",
   "pygments_lexer": "ipython3",
   "version": "3.9.13"
  }
 },
 "nbformat": 4,
 "nbformat_minor": 5
}
