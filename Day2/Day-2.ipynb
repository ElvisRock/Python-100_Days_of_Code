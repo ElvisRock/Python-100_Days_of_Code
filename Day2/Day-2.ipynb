{
 "cells": [
  {
   "cell_type": "markdown",
   "id": "47e4fd88",
   "metadata": {},
   "source": [
    "> # Day 2"
   ]
  },
  {
   "cell_type": "markdown",
   "id": "b70bc286",
   "metadata": {},
   "source": [
    " - **Python Primitive data types**"
   ]
  },
  {
   "cell_type": "code",
   "execution_count": 7,
   "id": "9c7b1101",
   "metadata": {},
   "outputs": [
    {
     "name": "stdout",
     "output_type": "stream",
     "text": [
      "HelloWorld\n",
      "468\n"
     ]
    }
   ],
   "source": [
    "# Data Types\n",
    "\n",
    "\n",
    "# Strings\n",
    "\n",
    "\n",
    "\"Hello\"[4]\n",
    "\n",
    "print(\"Hello\" + \"World\")\n",
    "\n",
    "\n",
    "# Integer\n",
    "print(123 + 345)\n",
    "\n",
    "\n",
    "# Float\n",
    "3.14159\n",
    "\n",
    "\n",
    "# Boolean\n",
    "\n",
    "True\n",
    "False\n"
   ]
  },
  {
   "cell_type": "markdown",
   "id": "c334f4bc",
   "metadata": {},
   "source": [
    "-----------------------------------------"
   ]
  },
  {
   "cell_type": "code",
   "execution_count": 9,
   "id": "2edd99b7",
   "metadata": {},
   "outputs": [
    {
     "name": "stdout",
     "output_type": "stream",
     "text": [
      "What is your name?el\n",
      "Your name has 2 characters.\n"
     ]
    }
   ],
   "source": [
    "num_char = len(input(\"What is your name?\"))\n",
    "\n",
    "new_num_char = str(num_char)\n",
    "\n",
    "print(\"Your name has \"+ new_num_char +\" characters.\")"
   ]
  },
  {
   "cell_type": "markdown",
   "id": "3faef71a",
   "metadata": {},
   "source": [
    "------------------------------------------------"
   ]
  },
  {
   "cell_type": "code",
   "execution_count": 16,
   "id": "3d7a80c7",
   "metadata": {},
   "outputs": [
    {
     "name": "stdout",
     "output_type": "stream",
     "text": [
      "<class 'float'>\n",
      "70100\n"
     ]
    }
   ],
   "source": [
    "a = float(123)\n",
    "print(type(a))\n",
    "\n",
    "# print (70+ float(\"100.5\"))\n",
    "print(str(70)+str(100))\n",
    "\n"
   ]
  },
  {
   "cell_type": "code",
   "execution_count": 25,
   "id": "2ef6eb2b",
   "metadata": {},
   "outputs": [
    {
     "name": "stdout",
     "output_type": "stream",
     "text": [
      "12\n",
      "3\n"
     ]
    }
   ],
   "source": [
    "two_digit_number = input()\n",
    "\n",
    "first_digit = int(two_digit_number[0])\n",
    "second_digit = int(two_digit_number[1])\n",
    "\n",
    "# Adicione os dois inteiros juntos\n",
    "two_digit_sum = first_digit + second_digit\n",
    "\n",
    "print(two_digit_sum)\n"
   ]
  },
  {
   "cell_type": "code",
   "execution_count": 26,
   "id": "659d342f",
   "metadata": {},
   "outputs": [
    {
     "name": "stdout",
     "output_type": "stream",
     "text": [
      "1\n",
      "A entrada não possui dois dígitos.\n"
     ]
    }
   ],
   "source": [
    "# Version 2 by Elvis\n",
    "two_digit_number = input()\n",
    "\n",
    "# Verifica se a entrada tem o comprimento adequado\n",
    "if len(two_digit_number) >= 2:\n",
    "    first_digit = int(two_digit_number[0])\n",
    "    second_digit = int(two_digit_number[1])\n",
    "\n",
    "    # Adicione os dois inteiros juntos\n",
    "    two_digit_sum = first_digit + second_digit\n",
    "\n",
    "    print(two_digit_sum)\n",
    "else:\n",
    "    print(\"A entrada não possui dois dígitos.\")\n"
   ]
  },
  {
   "cell_type": "markdown",
   "id": "bd2b4085",
   "metadata": {},
   "source": [
    "###  BMI calculator | IMC"
   ]
  },
  {
   "cell_type": "code",
   "execution_count": 29,
   "id": "57b8f488",
   "metadata": {},
   "outputs": [
    {
     "name": "stdout",
     "output_type": "stream",
     "text": [
      "1.70\n",
      "72\n",
      "24\n"
     ]
    }
   ],
   "source": [
    "heigth = input()\n",
    "weight = input()\n",
    "\n",
    "#Your code below this line\n",
    "weight_as_int =int(weight)\n",
    "heigth_as_float = float(heigth)\n",
    "\n",
    "# Using the expoent operator **\n",
    "bmi = weight_as_int / heigth_as_float ** 2\n",
    "\n",
    "# Or using multiplication and PEMDAS\n",
    "bmi = weight_as_int /( heigth_as_float *  heigth_as_float)\n",
    "\n",
    "bmi_as_int = int(bmi)\n",
    "print(bmi_as_int)"
   ]
  },
  {
   "cell_type": "markdown",
   "id": "29245ae1",
   "metadata": {},
   "source": [
    "-----------------------------------"
   ]
  },
  {
   "cell_type": "code",
   "execution_count": 32,
   "id": "9f94c185",
   "metadata": {},
   "outputs": [
    {
     "name": "stdout",
     "output_type": "stream",
     "text": [
      "your score is 0, your height is 1.8, you are winning is True\n"
     ]
    }
   ],
   "source": [
    "score = 0\n",
    "height = 1.8\n",
    "iswinning = True\n",
    "\n",
    "#f-String\n",
    "print(f\"your score is {score}, your height is {height}, you are winning is {iswinning}\")"
   ]
  },
  {
   "cell_type": "markdown",
   "id": "f3de5e5d",
   "metadata": {},
   "source": [
    "Obs:\n",
    "   - As f-strings são uma forma conveniente e legível de criar strings formatadas, tornando mais fácil a interpolação de valores de variáveis e expressões dentro de strings em Python"
   ]
  },
  {
   "cell_type": "markdown",
   "id": "8668f6a2",
   "metadata": {},
   "source": [
    "----------------------------------------------------"
   ]
  },
  {
   "cell_type": "markdown",
   "id": "8dd15317",
   "metadata": {},
   "source": [
    "### Life in Weeks"
   ]
  },
  {
   "cell_type": "code",
   "execution_count": 35,
   "id": "9bc484a5",
   "metadata": {},
   "outputs": [
    {
     "name": "stdout",
     "output_type": "stream",
     "text": [
      "17\n",
      "You have 3796 left.\n"
     ]
    }
   ],
   "source": [
    "age = input()\n",
    "# Your code below this line\n",
    "\n",
    "years = 90 - int(age)\n",
    "weeks = years * 52\n",
    "\n",
    "print(f\"You have {weeks} left.\")"
   ]
  },
  {
   "cell_type": "code",
   "execution_count": null,
   "id": "8e731845",
   "metadata": {},
   "outputs": [],
   "source": []
  }
 ],
 "metadata": {
  "kernelspec": {
   "display_name": "Python 3 (ipykernel)",
   "language": "python",
   "name": "python3"
  },
  "language_info": {
   "codemirror_mode": {
    "name": "ipython",
    "version": 3
   },
   "file_extension": ".py",
   "mimetype": "text/x-python",
   "name": "python",
   "nbconvert_exporter": "python",
   "pygments_lexer": "ipython3",
   "version": "3.9.13"
  }
 },
 "nbformat": 4,
 "nbformat_minor": 5
}
