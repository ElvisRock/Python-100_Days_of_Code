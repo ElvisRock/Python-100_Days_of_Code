{
 "cells": [
  {
   "cell_type": "markdown",
   "id": "c27d7541",
   "metadata": {},
   "source": [
    "># Day 10 -Beginner - Functions With Outputs"
   ]
  },
  {
   "cell_type": "code",
   "execution_count": 7,
   "id": "55c62fc1",
   "metadata": {},
   "outputs": [
    {
     "name": "stdout",
     "output_type": "stream",
     "text": [
      "What is your first name ?l\n",
      "What is your last name ?l\n",
      "Result:LL\n"
     ]
    }
   ],
   "source": [
    "def format_name(f_name, l_name):\n",
    "    if f_name ==\"\" or l_name ==\"\":\n",
    "        return \"You didn't provide valid inputs.\"\n",
    "    formated_f_name = f_name.title()\n",
    "    formated_l_name = l_name.title()\n",
    "    return f\"Result:{formated_f_name}{formated_l_name}\"\n",
    "\n",
    "print(format_name(input(\"What is your first name ?\"),\n",
    "input(\"What is your last name ?\")))"
   ]
  },
  {
   "cell_type": "code",
   "execution_count": 9,
   "id": "60e65453",
   "metadata": {},
   "outputs": [
    {
     "name": "stdout",
     "output_type": "stream",
     "text": [
      "Digite o ano: 1993\n",
      "Digite o mês (1-12): 11\n",
      "O número de dias no mês 11 do ano 1993 é 30.\n"
     ]
    }
   ],
   "source": [
    "def days_in_month(year, month):\n",
    "    month_days = [31, 28, 31, 30, 31, 30, 31, 31, 30, 31, 30, 31]\n",
    "    if month == 2 and is_leap(year):\n",
    "        return 29\n",
    "    else:\n",
    "        return month_days[month - 1]\n",
    "\n",
    "year = int(input(\"Digite o ano: \"))\n",
    "month = int(input(\"Digite o mês (1-12): \"))\n",
    "days = days_in_month(year, month)\n",
    "print(f\"O número de dias no mês {month} do ano {year} é {days}.\")"
   ]
  },
  {
   "cell_type": "code",
   "execution_count": 10,
   "id": "22b85aca",
   "metadata": {},
   "outputs": [
    {
     "name": "stdout",
     "output_type": "stream",
     "text": [
      "What is your first name ?e\n",
      "What is your last name ?l\n",
      "Result:EL\n"
     ]
    }
   ],
   "source": [
    "# Docstrings\n",
    "\n",
    "def format_name(f_name, l_name):\n",
    "    \"\"\"\"documentando o código\n",
    "    usando o docstrings\"\"\"\n",
    "    if f_name ==\"\" or l_name ==\"\":\n",
    "        return \"You didn't provide valid inputs.\"\n",
    "    formated_f_name = f_name.title()\n",
    "    formated_l_name = l_name.title()\n",
    "    return f\"Result:{formated_f_name}{formated_l_name}\"\n",
    "\n",
    "print(format_name(input(\"What is your first name ?\"),\n",
    "input(\"What is your last name ?\")))"
   ]
  },
  {
   "cell_type": "code",
   "execution_count": null,
   "id": "4842a770",
   "metadata": {},
   "outputs": [],
   "source": []
  }
 ],
 "metadata": {
  "kernelspec": {
   "display_name": "Python 3 (ipykernel)",
   "language": "python",
   "name": "python3"
  },
  "language_info": {
   "codemirror_mode": {
    "name": "ipython",
    "version": 3
   },
   "file_extension": ".py",
   "mimetype": "text/x-python",
   "name": "python",
   "nbconvert_exporter": "python",
   "pygments_lexer": "ipython3",
   "version": "3.9.7"
  }
 },
 "nbformat": 4,
 "nbformat_minor": 5
}
