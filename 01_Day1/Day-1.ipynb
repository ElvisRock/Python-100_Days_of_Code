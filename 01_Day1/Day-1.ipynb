{
 "cells": [
  {
   "cell_type": "markdown",
   "id": "bc60e0ba",
   "metadata": {},
   "source": [
    "> # Day-1 - Beginner - Working With Variables Python to Manage"
   ]
  },
  {
   "cell_type": "code",
   "execution_count": null,
   "id": "72ca14f1",
   "metadata": {},
   "outputs": [
    {
     "name": "stdout",
     "output_type": "stream",
     "text": [
      "Hello world!\n",
      "Hello workd\n",
      "Hello Angela\n"
     ]
    }
   ],
   "source": [
    "#Imprimindo a frase tradicional\n",
    "print(\"Hello world!\\nHello workd\")\n",
    "\n",
    "# Colocando espaco entre eles\n",
    "print(\"Hello\" + \" \" + \"Angela\")\n",
    "\n",
    "print(\"Hello\" + input (\" What is your name ?\"))\n",
    "\n",
    "# First desafio\n",
    "print( len(input(\"What is your name? \") ) ) \n",
    "\n",
    "\n",
    "#name = input(\"What is your name ?\")\n",
    "print(name)\n",
    "\n",
    "name = input(\"What is your name ?\")\n",
    "lenght = len(name)\n",
    "print(lenght)"
   ]
  },
  {
   "cell_type": "markdown",
   "id": "bc5a1503",
   "metadata": {},
   "source": [
    "______________________________________________"
   ]
  },
  {
   "cell_type": "code",
   "execution_count": null,
   "id": "f617b175",
   "metadata": {},
   "outputs": [],
   "source": [
    "#1 Create a getting for program.\n",
    "print(\"Welcome to the band name generator.\")\n",
    "\n",
    "#2.Ask the user for city that they grew up in.\n",
    "city = input(\"Which city did you grow up in?\\n\")\n",
    "\n",
    "#3. Ask the user for the name of a pet.\n",
    "pet = input(\"What is the name of a pet?\\n\")\n",
    "\n",
    "#4. Combine the name of their city and pet and show them their band name.\n",
    "print(\"Your band name could be\" + city + \" \" + pet)\n",
    "\n",
    "#5.Make sure the input cursor shows on a new line, see the sample at:\n",
    "# https://band-name-generator-end.appbrewery.repl.run/"
   ]
  }
 ],
 "metadata": {
  "kernelspec": {
   "display_name": "Python 3 (ipykernel)",
   "language": "python",
   "name": "python3"
  },
  "language_info": {
   "codemirror_mode": {
    "name": "ipython",
    "version": 3
   },
   "file_extension": ".py",
   "mimetype": "text/x-python",
   "name": "python",
   "nbconvert_exporter": "python",
   "pygments_lexer": "ipython3",
   "version": "3.9.7"
  }
 },
 "nbformat": 4,
 "nbformat_minor": 5
}
