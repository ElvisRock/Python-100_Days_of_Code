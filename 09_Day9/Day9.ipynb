{
 "cells": [
  {
   "cell_type": "markdown",
   "id": "4b32715d",
   "metadata": {},
   "source": [
    "># Day 9 - Beginner - Dictionaries, Nesting and the Secret Auction"
   ]
  },
  {
   "cell_type": "markdown",
   "id": "597da380",
   "metadata": {},
   "source": [
    "Trabalhando com dicionários: O conceito de 'Nesting' é algo como uma pasta, onde muitas coisas pode ser armazenadas dentro dela"
   ]
  },
  {
   "cell_type": "code",
   "execution_count": 11,
   "id": "02d34f79",
   "metadata": {},
   "outputs": [],
   "source": [
    "# Todo-2: Cover Score into grades."
   ]
  },
  {
   "cell_type": "code",
   "execution_count": 12,
   "id": "19820f1b",
   "metadata": {},
   "outputs": [
    {
     "name": "stdout",
     "output_type": "stream",
     "text": [
      "{'Alice': 'Exceeds Expectations', 'Bob': 'Acceptable', 'Charlie': 'Outstanding', 'David': 'Fail', 'Emily': 'Outstanding'}\n"
     ]
    }
   ],
   "source": [
    "student_scores = {\n",
    "    \"Alice\": 85,\n",
    "    \"Bob\": 75,\n",
    "    \"Charlie\": 95,\n",
    "    \"David\": 65,\n",
    "    \"Emily\": 100\n",
    "}\n",
    "\n",
    "student_grades = {}\n",
    "    \n",
    "for student in student_scores:\n",
    "    score = student_scores[student]\n",
    "    if score > 90:\n",
    "        student_grades[student] = \"Outstanding\"\n",
    "    elif score > 80:\n",
    "        student_grades[student] = \"Exceeds Expectations\"\n",
    "    elif score > 70:\n",
    "        student_grades[student] = \"Acceptable\"\n",
    "    else:\n",
    "        student_grades[student] = \"Fail\"\n",
    "        \n",
    "print(student_grades)\n"
   ]
  },
  {
   "cell_type": "markdown",
   "id": "64a37453",
   "metadata": {},
   "source": [
    "Exemple\n",
    "----------------------------------------------\n",
    "______________________________________________\n",
    "[{\n",
    "\n",
    "    KEY: [List],\n",
    "    KEY2:{Dict},\n",
    "    \n",
    "},\n",
    "\n",
    "{\n",
    "\n",
    "    Key: Value,\n",
    "    Key2: Value,\n",
    "}]\n",
    "\n",
    "-----------------------------------------"
   ]
  },
  {
   "cell_type": "markdown",
   "id": "c11d1b61",
   "metadata": {},
   "source": [
    "_________________________________________"
   ]
  },
  {
   "cell_type": "code",
   "execution_count": 19,
   "id": "8767ce04",
   "metadata": {},
   "outputs": [],
   "source": [
    "logo = '''\n",
    "                         ___________\n",
    "                         \\         /\n",
    "                          )_______(\n",
    "                          |\"\"\"\"\"\"\"|_.-._,.---------.,_.-._\n",
    "                          |       | | |               | | ''-.\n",
    "                          |       |_| |_             _| |_..-'\n",
    "                          |_______| '-' `'---------'` '-'\n",
    "                          )\"\"\"\"\"\"\"(\n",
    "                         /_________\\\\\n",
    "                       .-------------.\n",
    "                      /_______________\\\\\n",
    "'''"
   ]
  },
  {
   "cell_type": "code",
   "execution_count": null,
   "id": "119f4de9",
   "metadata": {},
   "outputs": [
    {
     "name": "stdout",
     "output_type": "stream",
     "text": [
      "\n",
      "                         ___________\n",
      "                         \\         /\n",
      "                          )_______(\n",
      "                          |\"\"\"\"\"\"\"|_.-._,.---------.,_.-._\n",
      "                          |       | | |               | | ''-.\n",
      "                          |       |_| |_             _| |_..-'\n",
      "                          |_______| '-' `'---------'` '-'\n",
      "                          )\"\"\"\"\"\"\"(\n",
      "                         /_________\\\n",
      "                       .-------------.\n",
      "                      /_______________\\\n",
      "\n"
     ]
    }
   ],
   "source": [
    "#from replit import clear\n",
    "#from art import logo\n",
    "print(logo)\n",
    "\n",
    "bids = {}\n",
    "bidding_finished = False\n",
    "\n",
    "def find_highest_bidder(bidding_record):\n",
    "  highest_bid = 0\n",
    "  winner = \"\"\n",
    "  # bidding_record = {\"Angela\": 123, \"James\": 321}\n",
    "  for bidder in bidding_record:\n",
    "    bid_amount = bidding_record[bidder]\n",
    "    if bid_amount > highest_bid: \n",
    "      highest_bid = bid_amount\n",
    "      winner = bidder\n",
    "  print(f\"The winner is {winner} with a bid of ${highest_bid}\")\n",
    "\n",
    "while not bidding_finished:\n",
    "  name = input(\"What is your name?: \")\n",
    "  price = int(input(\"What is your bid?: $\"))\n",
    "  bids[name] = price\n",
    "  should_continue = input(\"Are there any other bidders? Type 'yes or 'no'.\\n\")\n",
    "  if should_continue == \"no\":\n",
    "    bidding_finished = True\n",
    "    find_highest_bidder(bids)\n",
    "  elif should_continue == \"yes\":\n",
    "    clear()\n",
    "  \n",
    "\n",
    "\"\"\"\n",
    "FAQ: My console doesn't clear()\n",
    "\n",
    "This will happen if you’re using an IDE other than replit. \n",
    "I’ll cover how to use PyCharm in Day 15. That said, you can write your own clear() function or configure your IDE like so: \n",
    "\n",
    "https://www.udemy.com/course/100-days-of-code/learn/lecture/19279420#questions/16084076\n",
    "\n",
    "\"\"\""
   ]
  },
  {
   "cell_type": "code",
   "execution_count": null,
   "id": "46745ef1",
   "metadata": {},
   "outputs": [],
   "source": []
  }
 ],
 "metadata": {
  "kernelspec": {
   "display_name": "Python 3 (ipykernel)",
   "language": "python",
   "name": "python3"
  },
  "language_info": {
   "codemirror_mode": {
    "name": "ipython",
    "version": 3
   },
   "file_extension": ".py",
   "mimetype": "text/x-python",
   "name": "python",
   "nbconvert_exporter": "python",
   "pygments_lexer": "ipython3",
   "version": "3.9.7"
  }
 },
 "nbformat": 4,
 "nbformat_minor": 5
}
